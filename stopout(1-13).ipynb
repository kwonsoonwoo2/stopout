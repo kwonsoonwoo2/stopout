{
 "cells": [
  {
   "cell_type": "markdown",
   "metadata": {},
   "source": [
    "# Stopout 퀴즈\n",
    "\n",
    "## 제출방법\n",
    "\n",
    "- Stop-out제출용 저장소 하나씩 생성\n",
    "- 파이썬 문제는 하나의 Jupyter Notebook파일에 번호와 답 코드 및 실행결과를 담아 제출\n",
    "- 장고 문제는 해당 저장소의 `app`폴더에 장고 코드가 들어갈 수 있도록 설정\n",
    "\t- clone받을 경우 해당 폴더 내의 `app`폴더에서 `manage.py`를 실행할 수 있는 구조인지 확인\n",
    "- 구글 스프레드시트 문서에 각자 주소를 제출\n",
    "\n",
    "## 파이썬\n",
    "\n",
    "### 1. 다음 리스트를 사용해 아래와 같은 문자열을 만들어 `girlsday_info`변수에 할당한 후, 콘솔에 내용을 출력하시오. [5점]\n",
    "\n",
    "리스트\n",
    "\n",
    "```python\n",
    "girlsday_members = ['민아', '혜리', '유라', '소진']\n",
    "```\n",
    "\n",
    "결과 문자열\n",
    "\n",
    "```\n",
    "- 민아\n",
    "- 혜리\n",
    "- 유라\n",
    "- 소진\n",
    "```\n",
    "\n",
    "### 2. `fruit_dict`객체를 사용해서 아래와 같은 결과값을 갖는 문자열을 만들어 `fruit_info`변수에 할당 한 후, 콘솔에 내용을 출력하시오. [10점]\n",
    "\n",
    "- index 미출력시: -2\n",
    "- 키의 대문자화 미구현시: -2\n",
    "- 값의 첫 번째 글자 대문자화 미구현시: -2\n",
    "\n",
    "```\n",
    "fruit_dict = {\n",
    "    'red': 'apple',\n",
    "    'yellow': 'banana',\n",
    "    'green': 'melon',\n",
    "}\n",
    "```\n",
    "\n",
    "결과 문자열\n",
    "\n",
    "```\n",
    "[0] RED: Apple\n",
    "[1] YELLOW: Banana\n",
    "[2] GREEN: Melon\n",
    "\n",
    "# 어렵다면 아래 형태를 만든다\n",
    "\n",
    "red: apple\n",
    "yellow: banana\n",
    "green: melon\n",
    "```\n",
    "\n",
    "### 3. list의 `copy()`메서드가 하는 일과, `copy()`를 사용하지 않았을 때 발생할 수 있는 오류에 대한 예제 코드를 작성하시오. [10점]\n",
    "\n",
    "- `copy()`메서드의 설명이 틀렸을 경우: -4\n",
    "\n",
    "### 4. 1에서 30까지의 숫자 중, 3부터 시작해서 4번째마다의 숫자를 가지는 리스트를 생성하시오. [5점]\n",
    "\n",
    "- 기본점수: 3점\n",
    "- `range`를 사용한 경우: +2\n",
    "\n",
    "결과\n",
    "\n",
    "```\n",
    "[3, 7, 11, 15, 19, 23, 27]\n",
    "```\n",
    "\n",
    "### 5. dict형 객체인 `obj`가 있다고 할 때, `obj['key']`와 `obj.get('key')`의 차이를 서술하시오. [5점]\n",
    "\n",
    "### 6. 튜플 언패킹에 대해 서술하고, `pokemon_info` 객체를 순회할 때 튜플 언패킹을 사용하는 예제 코드를 작성하시오. [10점]\n",
    "\n",
    "- 틀린서술: -3\n",
    "- 예제코드 미작성: -7\n",
    "\n",
    "```\n",
    "pokemon_info = [\n",
    "    ('피카츄', '전기 타입'),\n",
    "    ('파이리', '불 타입'),\n",
    "    ('꼬부기', '물 타입'),\n",
    "    ('이상해씨', '풀 타입'),\n",
    "]\n",
    "```\n",
    "\n",
    "### 7. 함수에서 위치인자와 키워드인자의 차이점에 대해 서술하시오. [5점]\n",
    "\n",
    "### 8. 클래스와 인스턴스의 다음 사항들에 대해 서술하시오.\n",
    "\n",
    "- 클래스와 인스턴스의 차이점 [2점]\n",
    "- 클래스의 생성자 함수 이름 [1점]\n",
    "- 클래스의 생성자 함수가 호출되는 시점은? [2점]\n",
    "- 인스턴스 메서드의 `self`매개변수의 의미 [4점]\n",
    "\n",
    "### 9. `property`를 정의하는 방법에 대해 서술하시오. [5점]\n",
    "\n",
    "- `getter`를 만드는 방법에 대해 서술: 2점\n",
    "- `setter`를 만드는 방법에 대해 서술: 3점\n",
    "\n",
    "### 10. 아래와 같은 `User`클래스가 있다. 이 클래스를 상속받은 `Student`클래스를 정의하고, 초기화 메서드에서 `name`과 함께`age`라는 매개변수를 추가로 사용해 인스턴스의 `age`속성을 추가로 정의하도록 한다. [10점]\n",
    "\n",
    "- (기본구현) User클래스를 상속: 1\n",
    "- 초기화 메서드 재정의: +3\n",
    "- 초기화 메서드에서 `super`사용: +6\n",
    "\n",
    "```\n",
    "class User:\n",
    "    def __init__(self, name):\n",
    "        self.name = name\n",
    "```\n",
    "\n",
    "### 11. `url`주소로부터 아래 결과를 출력한다. [10점]\n",
    "\n",
    "> 공지사항이 추가되면 결과는 달라질 수 있으므로, 실제 게시판의 목록이 출력되는지 확인\n",
    "> \n",
    "> top이라는 텍스트는 포함되어도 무관\n",
    "\n",
    "```\n",
    "url = 'http://www.leagueoflegends.co.kr/?m=news&cate=notice'\n",
    "```\n",
    "\n",
    "결과 출력\n",
    "\n",
    "```\n",
    "top[#2] 격전을 준비하세요! (수정)\n",
    "top격전 참여시 불건전 행위에 대한 주의사항 안내(수정)\n",
    "6월 6일(수) 서버 점검 안내\n",
    "PBE 인사이드 20화(8.12 패치 편) 방송 안내\n",
    "다시 돌아온 격전! 얼불져스 6/5(화) 방송 일정 안내\n",
    "1일 격전 테스트에 참여해 주세요\n",
    "대리 게임 등 적발 현황 262차 안내\n",
    "부정행위 프로그램 제재 현황 안내\n",
    "MadLife와 함께하는 입롤의 신 - 파이크편\n",
    "무작위 총력전 샤코 챔피언 비활성화 안내 (정상화)\n",
    "얼불져스 성적 예측 이벤트 당첨자 안내\n",
    "수수께끼 피규어(시리즈 2) 할인 판매!\n",
    "```\n",
    "\n",
    "### 12. `url`주소에 있는 공지사항에 해당하는 `Notice`클래스를 만들고, 크롤링시 공지사항 하나마다 `Notice`클래스 인스턴스를 만들어 `notice_list`리스트에 추가한다. [10점]\n",
    "\n",
    "`notice_list`를 출력한 결과\n",
    "\n",
    "```\n",
    "for notice in notice_list:\n",
    "\tprint(notice.title)\n",
    "\tprint(notice.date)\n",
    "\tprint(notice.view)\n",
    "\tprint()\n",
    "```\n",
    "\n",
    "결과\n",
    "\n",
    "```\n",
    "top[#2] 격전을 준비하세요! (수정)\n",
    "2018-05-18\n",
    "17,698\n",
    "\n",
    "top격전 참여시 불건전 행위에 대한 주의사항 안내(수정)\n",
    "2018-04-26\n",
    "34,097\n",
    "\n",
    "일부 클라이언트 오류 현상에 대한 안내\n",
    "2018-06-06\n",
    "4,928\n",
    "\n",
    "6월 6일(수) 서버 점검 안내 (완료)\n",
    "2018-06-05\n",
    "38,061\n",
    "\n",
    "PBE 인사이드 20화(8.12 패치 편) 방송 안내\n",
    "2018-06-04\n",
    "7,819\n",
    "\n",
    "다시 돌아온 격전! 얼불져스 6/5(화) 방송 일정 안내\n",
    "2018-06-03\n",
    "13,906\n",
    "...\n",
    "...\n",
    "...\n",
    "```\n",
    "\n",
    "\n",
    "### 13. runserver가 `localhost:8000`에서 입력을 받는 상태로 동작 중일 때, 브라우저에서 `http://localhost:8000/abc/` 라는 URL을 입력하면 어떤 절차를 거쳐 사용자에게 다시 화면을 보여주는지 서술하시오. [10점]\n",
    "\n",
    "## Django [60점]\n",
    "\n",
    "#### 모델\n",
    "\n",
    "- 학교\n",
    "\t- 학교명\n",
    "- 학생\n",
    "\t- 소속 학교 (MTO)\n",
    "\t- 학생 이름\n",
    "\t- 친한 친구 목록 (MTM)\n",
    "\t\t- 대칭적관계로 구현\n",
    "\n",
    "#### 뷰\n",
    "\n",
    "- 학교 목록\n",
    "\t- 모든 학교 목록을 출력\n",
    "\t- 학교 상세보기로의 링크 구현\n",
    "- 학교 상세보기\n",
    "\t- URL이름으로 `school_id`를 사용, 해당 학교를 출력\n",
    "\t- 속하는 모든 학생 목록을 보여준다\n",
    "\t\t- 학생 상세보기로의 링크 구현\n",
    "- 학생 목록\n",
    "\t- 모든 학생 목록을 출력\n",
    "\t- 각 학생이 다니는 학교도 함께 출력해준다\n",
    "\t- 학생 상세보기로의 링크 구현\n",
    "- 학생 상세보기\n",
    "\t- URL이름으로 `student_id`를 사용, 해당 학생의 정보를 출력\n",
    "\t- 각 학생의 친구 목록을 출력해준다\n",
    "\n",
    "#### 샘플 데이터\n",
    "\n",
    "- 학교 2개 및 학생 구현\n",
    "\t- 서울대\n",
    "\t\t- 박보영\n",
    "\t\t- 민아\n",
    "\t\t- 아이유\n",
    "\t\t- 수지\n",
    "\t- 연세대 (학생 없음)\n",
    "\n",
    "- 박보영의 친한 친구 목록에 아이유와 수지 추가\n",
    "- 아이유의 친한 친구 목록에 민아 추가\n",
    "- 수지의 친한 친구 목록에 아이유 추가\n"
   ]
  },
  {
   "cell_type": "markdown",
   "metadata": {},
   "source": [
    "1. 다음 리스트를 사용해 아래와 같은 문자열을 만들어 girlsday_info변수에 할당한 후, 콘솔에 내용을 출력하시오. [5점]\n",
    "리스트\n",
    "\n",
    "girlsday_members = ['민아', '혜리', '유라', '소진']\n",
    "결과 문자열\n",
    "\n",
    "- 민아\n",
    "- 혜리\n",
    "- 유라\n",
    "- 소진"
   ]
  },
  {
   "cell_type": "code",
   "execution_count": 32,
   "metadata": {},
   "outputs": [
    {
     "name": "stdout",
     "output_type": "stream",
     "text": [
      "- 민아\n",
      "- 혜리\n",
      "- 유라\n",
      "- 소진\n",
      "\n"
     ]
    }
   ],
   "source": [
    "girlsday_members = ['민아', '혜리', '유라', '소진']\n",
    "\n",
    "girlsday_info = ''.join(f'- {i}\\n' for i in girlsday_members)\n",
    "print(girlsday_info)"
   ]
  },
  {
   "cell_type": "markdown",
   "metadata": {},
   "source": [
    "### 2. `fruit_dict`객체를 사용해서 아래와 같은 결과값을 갖는 문자열을 만들어 `fruit_info`변수에 할당 한 후, 콘솔에 내용을 출력하시오. [10점]\n",
    "\n",
    "- index 미출력시: -2\n",
    "- 키의 대문자화 미구현시: -2\n",
    "- 값의 첫 번째 글자 대문자화 미구현시: -2\n",
    "\n",
    "```\n",
    "fruit_dict = {\n",
    "    'red': 'apple',\n",
    "    'yellow': 'banana',\n",
    "    'green': 'melon',\n",
    "}\n",
    "```\n",
    "\n",
    "결과 문자열\n",
    "\n",
    "```\n",
    "[0] RED: Apple\n",
    "[1] YELLOW: Banana\n",
    "[2] GREEN: Melon\n",
    "\n",
    "# 어렵다면 아래 형태를 만든다\n",
    "\n",
    "red: apple\n",
    "yellow: banana\n",
    "green: melon\n",
    "```"
   ]
  },
  {
   "cell_type": "code",
   "execution_count": 55,
   "metadata": {},
   "outputs": [
    {
     "name": "stdout",
     "output_type": "stream",
     "text": [
      "[0] RED : Apple\n",
      "[1] YELLOW : Banana\n",
      "[2] GREEN : Melon\n",
      "\n"
     ]
    }
   ],
   "source": [
    "fruit_dict = {\n",
    "    'red': 'apple', \n",
    "    'yellow': 'banana', \n",
    "    'green': 'melon',\n",
    "}\n",
    "\n",
    "fruit_info = ''\n",
    "for index, (color,fruit) in enumerate(fruit_dict.items()):\n",
    "    fruit_info += f'[{index}] {color.upper()} : {fruit.capitalize()}\\n'\n",
    "    \n",
    "print(fruit_info)"
   ]
  },
  {
   "cell_type": "markdown",
   "metadata": {},
   "source": [
    "### 3. list의 `copy()`메서드가 하는 일과, `copy()`를 사용하지 않았을 때 발생할 수 있는 오류에 대한 예제 코드를 작성하시오. [10점]\n",
    "\n",
    "- `copy()`메서드의 설명이 틀렸을 경우: -4"
   ]
  },
  {
   "cell_type": "markdown",
   "metadata": {},
   "source": [
    "- copy() 메서드는 원래 문자열과 같은 값을 가지긴 하지만 다른 개체 참조를 나타냅니다.\n",
    "\n",
    "- copy()를 사용하지 않았을때 발생할수 있는 오류 \n",
    "\n",
    "a = ['a','b','c'] b = a.copy() 인 경우\n",
    "\n",
    "b is a False\n",
    "\n",
    "a = ['a','b','c'] b = a 인 경우\n",
    "\n",
    "b is a True"
   ]
  },
  {
   "cell_type": "markdown",
   "metadata": {},
   "source": [
    "### 4. 1에서 30까지의 숫자 중, 3부터 시작해서 4번째마다의 숫자를 가지는 리스트를 생성하시오. [5점]\n",
    "\n",
    "- 기본점수: 3점\n",
    "- `range`를 사용한 경우: +2\n",
    "\n",
    "결과\n",
    "\n",
    "```\n",
    "[3, 7, 11, 15, 19, 23, 27]\n",
    "```"
   ]
  },
  {
   "cell_type": "code",
   "execution_count": 58,
   "metadata": {},
   "outputs": [
    {
     "name": "stdout",
     "output_type": "stream",
     "text": [
      "[3, 7, 11, 15, 19, 23, 27]\n"
     ]
    }
   ],
   "source": [
    "result = []\n",
    "for i in range(1, 31):\n",
    "    result.append(i)\n",
    "    \n",
    "print(result[2::4])"
   ]
  },
  {
   "cell_type": "markdown",
   "metadata": {},
   "source": [
    "### 5. dict형 객체인 `obj`가 있다고 할 때, `obj['key']`와 `obj.get('key')`의 차이를 서술하시오. [5점]"
   ]
  },
  {
   "cell_type": "markdown",
   "metadata": {},
   "source": [
    "obj['key']'의 경우 사전에 없는 key값을 출력하려 하면 KeyError가 발생하지만 'obj.get('key')'의 경우 사전에 없는 key값을 출력하는 경우 기본적으로 None이 설정되므로 KeyError를 발생시키지 않는 차이가 있다."
   ]
  },
  {
   "cell_type": "markdown",
   "metadata": {},
   "source": [
    "### 6. 튜플 언패킹에 대해 서술하고, `pokemon_info` 객체를 순회할 때 튜플 언패킹을 사용하는 예제 코드를 작성하시오. [10점]\n",
    "\n",
    "- 틀린서술: -3\n",
    "- 예제코드 미작성: -7\n",
    "\n",
    "```\n",
    "pokemon_info = [\n",
    "    ('피카츄', '전기 타입'),\n",
    "    ('파이리', '불 타입'),\n",
    "    ('꼬부기', '물 타입'),\n",
    "    ('이상해씨', '풀 타입'),\n",
    "]\n",
    "```"
   ]
  },
  {
   "cell_type": "markdown",
   "metadata": {},
   "source": [
    "- 패킹된 변수에서 여러개의 값을 꺼내오는 것을 뜻하며 예제는 아래와 같다."
   ]
  },
  {
   "cell_type": "code",
   "execution_count": 98,
   "metadata": {},
   "outputs": [
    {
     "name": "stdout",
     "output_type": "stream",
     "text": [
      "피카츄 전기 타입\n",
      "파이리 불 타입\n",
      "꼬부기 물 타입\n",
      "이상해씨 풀 타입\n"
     ]
    }
   ],
   "source": [
    "pokemon_info = [\n",
    "    ('피카츄', '전기 타입'),\n",
    "    ('파이리', '불 타입'),\n",
    "    ('꼬부기', '물 타입'),\n",
    "    ('이상해씨', '풀 타입'),\n",
    "]\n",
    "\n",
    "for a, b in pokemon_info:\n",
    "    print(a , b)"
   ]
  },
  {
   "cell_type": "markdown",
   "metadata": {},
   "source": [
    "### 7. 함수에서 위치인자와 키워드인자의 차이점에 대해 서술하시오. [5점]"
   ]
  },
  {
   "cell_type": "markdown",
   "metadata": {},
   "source": [
    "- 위치인자는 함수로 전달하는 매개변수를 순서대로 나열하는 것이고\n",
    "- 키워드인자는 인자 이름과 인자에 할당할 값을 특정하는 것이 차이점."
   ]
  },
  {
   "cell_type": "markdown",
   "metadata": {},
   "source": [
    "### 8. 클래스와 인스턴스의 다음 사항들에 대해 서술하시오.\n",
    "\n",
    "- 클래스와 인스턴스의 차이점 [2점]\n",
    "- 클래스의 생성자 함수 이름 [1점]\n",
    "- 클래스의 생성자 함수가 호출되는 시점은? [2점]\n",
    "- 인스턴스 메서드의 `self`매개변수의 의미 [4점]"
   ]
  },
  {
   "cell_type": "markdown",
   "metadata": {},
   "source": [
    "- 클래스란 무엇인가를 만들어 낼수 있는 일종의 틀이고 인스턴스는 그 틀에 의해 만들어진 결과물을 뜻한다.\n",
    "- def init(self):\n",
    "- 객체가 생성될 때 자동으로 호출된다.\n",
    "- 메서드를 호출한 객체 자신이 전달되는 의미를 가진다"
   ]
  },
  {
   "cell_type": "markdown",
   "metadata": {},
   "source": [
    "### 9. `property`를 정의하는 방법에 대해 서술하시오. [5점]\n",
    "\n",
    "- `getter`를 만드는 방법에 대해 서술: 2점\n",
    "- `setter`를 만드는 방법에 대해 서술: 3점"
   ]
  },
  {
   "cell_type": "markdown",
   "metadata": {},
   "source": [
    "- getter를 만드는 방법 해당 메서드위에 @property를 붙이고 읽으려고 하는 값을 반환하도록 한다.\n",
    "- setter를 만드는 방법 해당 메서드위에 @메서드이름.setter를 붙여서 사용한다"
   ]
  },
  {
   "cell_type": "markdown",
   "metadata": {},
   "source": [
    "### 10. 아래와 같은 `User`클래스가 있다. 이 클래스를 상속받은 `Student`클래스를 정의하고, 초기화 메서드에서 `name`과 함께`age`라는 매개변수를 추가로 사용해 인스턴스의 `age`속성을 추가로 정의하도록 한다. [10점]\n",
    "\n",
    "- (기본구현) User클래스를 상속: 1\n",
    "- 초기화 메서드 재정의: +3\n",
    "- 초기화 메서드에서 `super`사용: +6\n",
    "\n",
    "```\n",
    "class User:\n",
    "    def __init__(self, name):\n",
    "        self.name = name\n",
    "```"
   ]
  },
  {
   "cell_type": "code",
   "execution_count": 99,
   "metadata": {},
   "outputs": [],
   "source": [
    "class User:\n",
    "    def __init__(self, name):\n",
    "        self.name = name\n",
    "        \n",
    "        \n",
    "class Student(User):\n",
    "    def __init__(self, name, age):\n",
    "        super().__init__(name)\n",
    "        self.age = age"
   ]
  },
  {
   "cell_type": "markdown",
   "metadata": {},
   "source": [
    "### 11. `url`주소로부터 아래 결과를 출력한다. [10점]\n",
    "\n",
    "> 공지사항이 추가되면 결과는 달라질 수 있으므로, 실제 게시판의 목록이 출력되는지 확인\n",
    "> \n",
    "> top이라는 텍스트는 포함되어도 무관\n",
    "\n",
    "```\n",
    "url = 'http://www.leagueoflegends.co.kr/?m=news&cate=notice'\n",
    "```\n",
    "\n",
    "결과 출력\n",
    "\n",
    "```\n",
    "top[#2] 격전을 준비하세요! (수정)\n",
    "top격전 참여시 불건전 행위에 대한 주의사항 안내(수정)\n",
    "6월 6일(수) 서버 점검 안내\n",
    "PBE 인사이드 20화(8.12 패치 편) 방송 안내\n",
    "다시 돌아온 격전! 얼불져스 6/5(화) 방송 일정 안내\n",
    "1일 격전 테스트에 참여해 주세요\n",
    "대리 게임 등 적발 현황 262차 안내\n",
    "부정행위 프로그램 제재 현황 안내\n",
    "MadLife와 함께하는 입롤의 신 - 파이크편\n",
    "무작위 총력전 샤코 챔피언 비활성화 안내 (정상화)\n",
    "얼불져스 성적 예측 이벤트 당첨자 안내\n",
    "수수께끼 피규어(시리즈 2) 할인 판매!\n",
    "```"
   ]
  },
  {
   "cell_type": "code",
   "execution_count": 96,
   "metadata": {},
   "outputs": [
    {
     "name": "stdout",
     "output_type": "stream",
     "text": [
      "top2018 시즌 종료 추가 정보\n",
      "top2018 시즌 보상 지급 제외 대상자 기준 안내\n",
      "MAC 클라이언트 한글 채팅 이용 불가 안내\n",
      "10월 24일(수) 서버 점검 및 업데이트 안내(완료)\n",
      "2018 월드 챔피언십 결승전 티켓 추가 판매 안내\n",
      "2018 올스타전 중간 득표율 현황\n",
      "10월 소환사 문화재지킴이 모집 안내\n",
      "대리 게임 등 적발 현황 282차 안내\n",
      "2018 월드 챔피언십 8강 현장 라이엇 스토어 운영 안내\n",
      "부정행위 프로그램 제재 현황 안내\n",
      "격전 – 2018년 10월 진행 상황 업데이트\n",
      "LCK in Worlds 그룹 스테이지 편\n"
     ]
    }
   ],
   "source": [
    "import requests\n",
    "from bs4 import BeautifulSoup\n",
    "\n",
    "url = 'http://www.leagueoflegends.co.kr/?m=news&cate=notice'\n",
    "response = requests.get(url)\n",
    "html = response.text\n",
    "soup = BeautifulSoup(html, 'lxml')\n",
    "notice = soup.select('td.tleft > a')\n",
    "for i in notice:\n",
    "    print(i.get_text())"
   ]
  },
  {
   "cell_type": "markdown",
   "metadata": {},
   "source": [
    "### 12. `url`주소에 있는 공지사항에 해당하는 `Notice`클래스를 만들고, 크롤링시 공지사항 하나마다 `Notice`클래스 인스턴스를 만들어 `notice_list`리스트에 추가한다. [10점]\n",
    "\n",
    "`notice_list`를 출력한 결과\n",
    "\n",
    "```\n",
    "for notice in notice_list:\n",
    "\tprint(notice.title)\n",
    "\tprint(notice.date)\n",
    "\tprint(notice.view)\n",
    "\tprint()\n",
    "```\n",
    "\n",
    "결과\n",
    "\n",
    "```\n",
    "top[#2] 격전을 준비하세요! (수정)\n",
    "2018-05-18\n",
    "17,698\n",
    "\n",
    "top격전 참여시 불건전 행위에 대한 주의사항 안내(수정)\n",
    "2018-04-26\n",
    "34,097\n",
    "\n",
    "일부 클라이언트 오류 현상에 대한 안내\n",
    "2018-06-06\n",
    "4,928\n",
    "\n",
    "6월 6일(수) 서버 점검 안내 (완료)\n",
    "2018-06-05\n",
    "38,061\n",
    "\n",
    "PBE 인사이드 20화(8.12 패치 편) 방송 안내\n",
    "2018-06-04\n",
    "7,819\n",
    "\n",
    "다시 돌아온 격전! 얼불져스 6/5(화) 방송 일정 안내\n",
    "2018-06-03\n",
    "13,906\n",
    "...\n",
    "...\n",
    "...\n",
    "```"
   ]
  },
  {
   "cell_type": "markdown",
   "metadata": {},
   "source": [
    "### 12. `url`주소에 있는 공지사항에 해당하는 `Notice`클래스를 만들고, 크롤링시 공지사항 하나마다 `Notice`클래스 인스턴스를 만들어 `notice_list`리스트에 추가한다. [10점]\n",
    "\n",
    "`notice_list`를 출력한 결과\n",
    "\n",
    "```\n",
    "for notice in notice_list:\n",
    "\tprint(notice.title)\n",
    "\tprint(notice.date)\n",
    "\tprint(notice.view)\n",
    "\tprint()\n",
    "```\n",
    "\n",
    "결과\n",
    "\n",
    "```\n",
    "top[#2] 격전을 준비하세요! (수정)\n",
    "2018-05-18\n",
    "17,698\n",
    "\n",
    "top격전 참여시 불건전 행위에 대한 주의사항 안내(수정)\n",
    "2018-04-26\n",
    "34,097\n",
    "\n",
    "일부 클라이언트 오류 현상에 대한 안내\n",
    "2018-06-06\n",
    "4,928\n",
    "\n",
    "6월 6일(수) 서버 점검 안내 (완료)\n",
    "2018-06-05\n",
    "38,061\n",
    "\n",
    "PBE 인사이드 20화(8.12 패치 편) 방송 안내\n",
    "2018-06-04\n",
    "7,819\n",
    "\n",
    "다시 돌아온 격전! 얼불져스 6/5(화) 방송 일정 안내\n",
    "2018-06-03\n",
    "13,906\n",
    "...\n",
    "...\n",
    "...\n",
    "```"
   ]
  },
  {
   "cell_type": "code",
   "execution_count": 95,
   "metadata": {},
   "outputs": [
    {
     "name": "stdout",
     "output_type": "stream",
     "text": [
      "top2018 시즌 종료 추가 정보\n",
      "2018-10-18\n",
      "8,304\n",
      "top2018 시즌 보상 지급 제외 대상자 기준 안내\n",
      "2018-10-15\n",
      "34,540\n",
      "MAC 클라이언트 한글 채팅 이용 불가 안내\n",
      "2018-10-24\n",
      "209\n",
      "10월 24일(수) 서버 점검 및 업데이트 안내(완료)\n",
      "2018-10-23\n",
      "13,307\n",
      "2018 월드 챔피언십 결승전 티켓 추가 판매 안내\n",
      "2018-10-22\n",
      "12,746\n",
      "2018 올스타전 중간 득표율 현황\n",
      "2018-10-22\n",
      "21,431\n",
      "10월 소환사 문화재지킴이 모집 안내\n",
      "2018-10-19\n",
      "6,889\n",
      "대리 게임 등 적발 현황 282차 안내\n",
      "2018-10-19\n",
      "3,197\n",
      "2018 월드 챔피언십 8강 현장 라이엇 스토어 운영 안내\n",
      "2018-10-19\n",
      "1,938\n",
      "부정행위 프로그램 제재 현황 안내\n",
      "2018-10-19\n",
      "1,597\n",
      "격전 – 2018년 10월 진행 상황 업데이트\n",
      "2018-10-19\n",
      "12,234\n",
      "LCK in Worlds 그룹 스테이지 편\n",
      "2018-10-18\n",
      "3,865\n"
     ]
    }
   ],
   "source": [
    "import requests\n",
    "from bs4 import BeautifulSoup\n",
    "\n",
    "class Notice:\n",
    "    def __init__(self, title, date, view):\n",
    "        self.title = title\n",
    "        self.date = date\n",
    "        self.view = view\n",
    "\n",
    "        \n",
    "url = 'http://www.leagueoflegends.co.kr/?m=news&cate=notice'\n",
    "response = requests.get(url)\n",
    "html = response.text\n",
    "soup = BeautifulSoup(html, 'lxml')\n",
    "board = soup.select('tbody > tr')\n",
    "\n",
    "\n",
    "\n",
    "notice_list = list()\n",
    "\n",
    "for article in board:\n",
    "    title = article.select_one('td.tleft > a').text\n",
    "    date = article.select_one('td:nth-of-type(2)').text\n",
    "    view = article.select_one('td:nth-of-type(3)').text\n",
    "    notice_list.append(Notice(title, date, view))\n",
    "\n",
    "for notice in notice_list:\n",
    "    print(notice.title)\n",
    "    print(notice.date)\n",
    "    print(notice.view)\n",
    "\n",
    "\n"
   ]
  },
  {
   "cell_type": "markdown",
   "metadata": {},
   "source": [
    "### 13. runserver가 `localhost:8000`에서 입력을 받는 상태로 동작 중일 때, 브라우저에서 `http://localhost:8000/abc/` 라는 URL을 입력하면 어떤 절차를 거쳐 사용자에게 다시 화면을 보여주는지 서술하시오. [10점]"
   ]
  },
  {
   "cell_type": "markdown",
   "metadata": {},
   "source": [
    "사용자가 요청한 abc/URL에 해당하는 문자열을 urls.py에서 파싱한 후에 views.py로 보내 처리하도록 한다. 해당 view에서 데이터베이스를 조작하는 로직을 실행하거나 템플릿을 렌더링 해주어 템플릿이 사용자에게 보이게 한다. 따라서 사용자는 렌더링된 템플릿 화면을 볼 수 있다"
   ]
  },
  {
   "cell_type": "markdown",
   "metadata": {},
   "source": [
    "## Django [60점]\n",
    "\n",
    "#### 모델\n",
    "\n",
    "- 학교\n",
    "\t- 학교명\n",
    "- 학생\n",
    "\t- 소속 학교 (MTO)\n",
    "\t- 학생 이름\n",
    "\t- 친한 친구 목록 (MTM)\n",
    "\t\t- 대칭적관계로 구현\n",
    "\n",
    "#### 뷰\n",
    "\n",
    "- 학교 목록\n",
    "\t- 모든 학교 목록을 출력\n",
    "\t- 학교 상세보기로의 링크 구현\n",
    "- 학교 상세보기\n",
    "\t- URL이름으로 `school_id`를 사용, 해당 학교를 출력\n",
    "\t- 속하는 모든 학생 목록을 보여준다\n",
    "\t\t- 학생 상세보기로의 링크 구현\n",
    "- 학생 목록\n",
    "\t- 모든 학생 목록을 출력\n",
    "\t- 각 학생이 다니는 학교도 함께 출력해준다\n",
    "\t- 학생 상세보기로의 링크 구현\n",
    "- 학생 상세보기\n",
    "\t- URL이름으로 `student_id`를 사용, 해당 학생의 정보를 출력\n",
    "\t- 각 학생의 친구 목록을 출력해준다\n",
    "\n",
    "#### 샘플 데이터\n",
    "\n",
    "- 학교 2개 및 학생 구현\n",
    "\t- 서울대\n",
    "\t\t- 박보영\n",
    "\t\t- 민아\n",
    "\t\t- 아이유\n",
    "\t\t- 수지\n",
    "\t- 연세대 (학생 없음)\n",
    "\n",
    "- 박보영의 친한 친구 목록에 아이유와 수지 추가\n",
    "- 아이유의 친한 친구 목록에 민아 추가\n",
    "- 수지의 친한 친구 목록에 아이유 추가"
   ]
  },
  {
   "cell_type": "markdown",
   "metadata": {},
   "source": [
    "django-app으로 구현"
   ]
  },
  {
   "cell_type": "code",
   "execution_count": null,
   "metadata": {},
   "outputs": [],
   "source": []
  },
  {
   "cell_type": "code",
   "execution_count": null,
   "metadata": {},
   "outputs": [],
   "source": []
  },
  {
   "cell_type": "code",
   "execution_count": null,
   "metadata": {},
   "outputs": [],
   "source": []
  },
  {
   "cell_type": "code",
   "execution_count": null,
   "metadata": {},
   "outputs": [],
   "source": []
  },
  {
   "cell_type": "code",
   "execution_count": null,
   "metadata": {},
   "outputs": [],
   "source": []
  },
  {
   "cell_type": "code",
   "execution_count": null,
   "metadata": {},
   "outputs": [],
   "source": []
  },
  {
   "cell_type": "code",
   "execution_count": null,
   "metadata": {},
   "outputs": [],
   "source": []
  },
  {
   "cell_type": "code",
   "execution_count": null,
   "metadata": {},
   "outputs": [],
   "source": []
  },
  {
   "cell_type": "code",
   "execution_count": null,
   "metadata": {},
   "outputs": [],
   "source": []
  },
  {
   "cell_type": "code",
   "execution_count": null,
   "metadata": {},
   "outputs": [],
   "source": []
  },
  {
   "cell_type": "code",
   "execution_count": null,
   "metadata": {},
   "outputs": [],
   "source": []
  },
  {
   "cell_type": "code",
   "execution_count": null,
   "metadata": {},
   "outputs": [],
   "source": []
  },
  {
   "cell_type": "code",
   "execution_count": null,
   "metadata": {},
   "outputs": [],
   "source": []
  },
  {
   "cell_type": "code",
   "execution_count": null,
   "metadata": {},
   "outputs": [],
   "source": []
  },
  {
   "cell_type": "code",
   "execution_count": null,
   "metadata": {},
   "outputs": [],
   "source": []
  },
  {
   "cell_type": "code",
   "execution_count": null,
   "metadata": {},
   "outputs": [],
   "source": []
  },
  {
   "cell_type": "code",
   "execution_count": null,
   "metadata": {},
   "outputs": [],
   "source": []
  },
  {
   "cell_type": "code",
   "execution_count": null,
   "metadata": {},
   "outputs": [],
   "source": []
  },
  {
   "cell_type": "code",
   "execution_count": null,
   "metadata": {},
   "outputs": [],
   "source": []
  },
  {
   "cell_type": "code",
   "execution_count": null,
   "metadata": {},
   "outputs": [],
   "source": []
  },
  {
   "cell_type": "code",
   "execution_count": null,
   "metadata": {},
   "outputs": [],
   "source": []
  },
  {
   "cell_type": "code",
   "execution_count": null,
   "metadata": {},
   "outputs": [],
   "source": []
  },
  {
   "cell_type": "code",
   "execution_count": null,
   "metadata": {},
   "outputs": [],
   "source": []
  },
  {
   "cell_type": "code",
   "execution_count": null,
   "metadata": {},
   "outputs": [],
   "source": []
  },
  {
   "cell_type": "code",
   "execution_count": null,
   "metadata": {},
   "outputs": [],
   "source": []
  },
  {
   "cell_type": "code",
   "execution_count": null,
   "metadata": {},
   "outputs": [],
   "source": []
  },
  {
   "cell_type": "code",
   "execution_count": null,
   "metadata": {},
   "outputs": [],
   "source": []
  },
  {
   "cell_type": "code",
   "execution_count": null,
   "metadata": {},
   "outputs": [],
   "source": []
  },
  {
   "cell_type": "code",
   "execution_count": null,
   "metadata": {},
   "outputs": [],
   "source": []
  },
  {
   "cell_type": "code",
   "execution_count": null,
   "metadata": {},
   "outputs": [],
   "source": []
  },
  {
   "cell_type": "code",
   "execution_count": null,
   "metadata": {},
   "outputs": [],
   "source": []
  },
  {
   "cell_type": "code",
   "execution_count": null,
   "metadata": {},
   "outputs": [],
   "source": []
  },
  {
   "cell_type": "code",
   "execution_count": null,
   "metadata": {},
   "outputs": [],
   "source": []
  },
  {
   "cell_type": "code",
   "execution_count": null,
   "metadata": {},
   "outputs": [],
   "source": []
  },
  {
   "cell_type": "code",
   "execution_count": null,
   "metadata": {},
   "outputs": [],
   "source": []
  },
  {
   "cell_type": "code",
   "execution_count": null,
   "metadata": {},
   "outputs": [],
   "source": []
  },
  {
   "cell_type": "code",
   "execution_count": null,
   "metadata": {},
   "outputs": [],
   "source": []
  },
  {
   "cell_type": "code",
   "execution_count": null,
   "metadata": {},
   "outputs": [],
   "source": []
  },
  {
   "cell_type": "code",
   "execution_count": null,
   "metadata": {},
   "outputs": [],
   "source": []
  },
  {
   "cell_type": "code",
   "execution_count": null,
   "metadata": {},
   "outputs": [],
   "source": []
  },
  {
   "cell_type": "code",
   "execution_count": null,
   "metadata": {},
   "outputs": [],
   "source": []
  },
  {
   "cell_type": "code",
   "execution_count": null,
   "metadata": {},
   "outputs": [],
   "source": []
  },
  {
   "cell_type": "code",
   "execution_count": null,
   "metadata": {},
   "outputs": [],
   "source": []
  },
  {
   "cell_type": "code",
   "execution_count": null,
   "metadata": {},
   "outputs": [],
   "source": []
  },
  {
   "cell_type": "code",
   "execution_count": null,
   "metadata": {},
   "outputs": [],
   "source": []
  },
  {
   "cell_type": "code",
   "execution_count": null,
   "metadata": {},
   "outputs": [],
   "source": []
  },
  {
   "cell_type": "code",
   "execution_count": null,
   "metadata": {},
   "outputs": [],
   "source": []
  },
  {
   "cell_type": "code",
   "execution_count": null,
   "metadata": {},
   "outputs": [],
   "source": []
  },
  {
   "cell_type": "code",
   "execution_count": null,
   "metadata": {},
   "outputs": [],
   "source": []
  },
  {
   "cell_type": "code",
   "execution_count": null,
   "metadata": {},
   "outputs": [],
   "source": []
  },
  {
   "cell_type": "code",
   "execution_count": null,
   "metadata": {},
   "outputs": [],
   "source": []
  },
  {
   "cell_type": "code",
   "execution_count": null,
   "metadata": {},
   "outputs": [],
   "source": []
  },
  {
   "cell_type": "code",
   "execution_count": null,
   "metadata": {},
   "outputs": [],
   "source": []
  },
  {
   "cell_type": "code",
   "execution_count": null,
   "metadata": {},
   "outputs": [],
   "source": []
  },
  {
   "cell_type": "code",
   "execution_count": null,
   "metadata": {},
   "outputs": [],
   "source": []
  }
 ],
 "metadata": {
  "kernelspec": {
   "display_name": "Python 3",
   "language": "python",
   "name": "python3"
  },
  "language_info": {
   "codemirror_mode": {
    "name": "ipython",
    "version": 3
   },
   "file_extension": ".py",
   "mimetype": "text/x-python",
   "name": "python",
   "nbconvert_exporter": "python",
   "pygments_lexer": "ipython3",
   "version": "3.6.6"
  }
 },
 "nbformat": 4,
 "nbformat_minor": 2
}
